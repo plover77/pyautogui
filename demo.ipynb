import pyautogui, time
print("本台计算机分辨率为：", pyautogui.size(), "目前光标的位置：", pyautogui.position())
numpy_hours = 0
t1, t2 = time.time(), time.time()
while t2-t1 < numpy_hours*3600:
      pyautogui.moveTo(100, 200)  # 移动到100，200点
      pyautogui.drag(0, 200, 0.1, button='left')  # 按住左键，从当前位置向右移动0px，向下移动200px，用时0.1s
      pyautogui.click(100, 200)  # 鼠标在100，200点位置进行点击
      time.sleep(1)  # 点击后等待1秒——等待刷新
      pyautogui.click(100, 200)  # 鼠标在100，200点位置进行点击
      time.sleep(0.1)  # 点击后等待0.1秒
      pyautogui.click(100, 200)  # 鼠标在100，200点位置进行点击
      time.sleep(0.1)  # 点击后等待0.1秒
      pyautogui.click(100, 200)  # 鼠标在100，200点位置进行点击
      time.sleep(0.1)  # 点击后等待0.1秒
      t2 = time.time()  # 更新时间t2

'''
# 检查XY是否在允许的分辨率内
# print(pyautogui.onScreen(0, 0))  # True
# print(pyautogui.onScreen(1920, 1080))  # False
# 原因分析：因为最左上角的点为0，0；故最右下角的点为（1919，1079）
pyautogui.move(0,100)        # 在当前位置鼠标向下移动100px
# moveTo鼠标光标移至传递的X和Y整数坐标,duration为移动到目标点的指定耗时
pyautogui.moveTo(100, 200)  # , duration=1)  # 以先快后慢的方式移动到100，200点，耗时1S

pyautogui.dragTo(200, 200, 2, button='left')  # 按住左键，用2s时间移动到100，200点的位置
pyautogui.drag(100, 200, 2, button='left')  # 按住左键，从当前位置向右移动100px，向下移动200px，用时2s

pyautogui.click()  # 鼠标在当前位置进行点击
# clicks: 点击次数，默认1次。次数为2，等于一次双击操作
# interval: 两次点击间隔时长，默认0.0；大于1.0后。默认为点击一次
# duration: 所耗时长，默认0.0。
pyautogui.click(100, 200, clicks=2, interval=0.1, duration=3.0)
# 耗时3S，将鼠标移动到100，200的位置，点击2次，两次点击间隔0.1S

# interval:和click一样，间隔时长，大于1.0则不执行
# button：默认为左键，也可以改成RIGHT
# duration: 默认0.0，也可以设置执行所耗时间
# tween: 默认无变化。具体详见move()方法
pyautogui.doubleClick()
pyautogui.tripleClick()  # 执行三次单击。
pyautogui.mouseDown(x=100, y=200, button='left')    # 将鼠标移动到100，200点后，按住左键不动可实现拖拽。
pyautogui.mouseUp(x=100, y=200, button='left')
# 执行鼠标滚轮的滚动。垂直滚动还是水平滚动取决于底层操作系统。
pyautogui.scroll(50)        # scroll up 50 "clicks"
pyautogui.scroll(-50)        # scroll down 50 "clicks"
'''
