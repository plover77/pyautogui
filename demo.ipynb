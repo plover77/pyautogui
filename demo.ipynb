{
 "cells": [
  {
   "cell_type": "markdown",
   "metadata": {},
   "source": [
    "# run"
   ]
  },
  {
   "cell_type": "code",
   "execution_count": 2,
   "metadata": {},
   "outputs": [
    {
     "ename": "ModuleNotFoundError",
     "evalue": "No module named 'pyautogui'",
     "output_type": "error",
     "traceback": [
      "\u001b[0;31m---------------------------------------------------------------------------\u001b[0m",
      "\u001b[0;31mModuleNotFoundError\u001b[0m                       Traceback (most recent call last)",
      "Cell \u001b[0;32mIn[2], line 1\u001b[0m\n\u001b[0;32m----> 1\u001b[0m \u001b[38;5;28;01mimport\u001b[39;00m \u001b[38;5;21;01mpyautogui\u001b[39;00m\u001b[38;5;241m,\u001b[39m \u001b[38;5;21;01mtime\u001b[39;00m\n",
      "\u001b[0;31mModuleNotFoundError\u001b[0m: No module named 'pyautogui'"
     ]
    }
   ],
   "source": [
    "import pyautogui, time"
   ]
  },
  {
   "cell_type": "code",
   "execution_count": 1,
   "metadata": {},
   "outputs": [
    {
     "ename": "NameError",
     "evalue": "name 'pyautogui' is not defined",
     "output_type": "error",
     "traceback": [
      "\u001b[0;31m---------------------------------------------------------------------------\u001b[0m",
      "\u001b[0;31mNameError\u001b[0m                                 Traceback (most recent call last)",
      "Cell \u001b[0;32mIn[1], line 1\u001b[0m\n\u001b[0;32m----> 1\u001b[0m \u001b[38;5;28mprint\u001b[39m(\u001b[38;5;124m\"\u001b[39m\u001b[38;5;124m本台计算机分辨率为：\u001b[39m\u001b[38;5;124m\"\u001b[39m, pyautogui\u001b[38;5;241m.\u001b[39msize(), \u001b[38;5;124m\"\u001b[39m\u001b[38;5;124m目前光标的位置：\u001b[39m\u001b[38;5;124m\"\u001b[39m, pyautogui\u001b[38;5;241m.\u001b[39mposition())\n\u001b[1;32m      2\u001b[0m numpy_hours \u001b[38;5;241m=\u001b[39m \u001b[38;5;241m0\u001b[39m\n\u001b[1;32m      3\u001b[0m t1, t2 \u001b[38;5;241m=\u001b[39m time\u001b[38;5;241m.\u001b[39mtime(), time\u001b[38;5;241m.\u001b[39mtime()\n",
      "\u001b[0;31mNameError\u001b[0m: name 'pyautogui' is not defined"
     ]
    }
   ],
   "source": [
    "print(\"本台计算机分辨率为：\", pyautogui.size(), \"目前光标的位置：\", pyautogui.position())\n",
    "numpy_hours = 0\n",
    "t1, t2 = time.time(), time.time()\n",
    "while t2-t1 < numpy_hours*3600:\n",
    "      pyautogui.moveTo(100, 200)  # 移动到100，200点\n",
    "      pyautogui.drag(0, 200, 0.1, button='left')  # 按住左键，从当前位置向右移动0px，向下移动200px，用时0.1s\n",
    "      pyautogui.click(100, 200)  # 鼠标在100，200点位置进行点击\n",
    "      time.sleep(1)  # 点击后等待1秒——等待刷新\n",
    "      pyautogui.click(100, 200)  # 鼠标在100，200点位置进行点击\n",
    "      time.sleep(0.1)  # 点击后等待0.1秒\n",
    "      pyautogui.click(100, 200)  # 鼠标在100，200点位置进行点击\n",
    "      time.sleep(0.1)  # 点击后等待0.1秒\n",
    "      pyautogui.click(100, 200)  # 鼠标在100，200点位置进行点击\n",
    "      time.sleep(0.1)  # 点击后等待0.1秒\n",
    "      t2 = time.time()  # 更新时间t2"
   ]
  },
  {
   "cell_type": "markdown",
   "metadata": {},
   "source": [
    "请点击[此处](https://ai.baidu.com/docs#/AIStudio_Project_Notebook/a38e5576)查看本环境基本用法.  <br>\n",
    "Please click [here ](https://ai.baidu.com/docs#/AIStudio_Project_Notebook/a38e5576) for more detailed instructions. "
   ]
  }
 ],
 "metadata": {
  "kernelspec": {
   "display_name": "Python 3 (ipykernel)",
   "language": "python",
   "name": "python3"
  },
  "language_info": {
   "codemirror_mode": {
    "name": "ipython",
    "version": 3
   },
   "file_extension": ".py",
   "mimetype": "text/x-python",
   "name": "python",
   "nbconvert_exporter": "python",
   "pygments_lexer": "ipython3",
   "version": "3.11.5"
  }
 },
 "nbformat": 4,
 "nbformat_minor": 4
}
