import pyautogui, time
print(pyautogui.size(), pyautogui.position())
numpy_hours = 0
t1, t2 = time.time(), time.time()
while t2-t1 < numpy_hours*3600:
      pyautogui.moveTo(100, 200) 
      pyautogui.drag(0, 200, 0.1, button='left')  
      pyautogui.click(100, 200)  
      time.sleep(1) 
      pyautogui.click(100, 200) 
      time.sleep(0.1) 
      pyautogui.click(100, 200)  
      time.sleep(0.1)  
      pyautogui.click(100, 200)  
      time.sleep(0.1) 
      t2 = time.time()  
